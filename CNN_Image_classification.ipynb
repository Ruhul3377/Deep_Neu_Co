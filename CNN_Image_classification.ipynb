{
 "cells": [
  {
   "cell_type": "markdown",
   "metadata": {},
   "source": [
    "#### 1 . Input Layer --CNN / Dense Layer / Convulated Layer \n",
    "\n",
    "<h4> i. Relu\n",
    "ii. Polling Layer\n",
    "iii. Upsamling\n",
    "  \n",
    "i. batchNormalization ii. Dropout  Layer \n",
    "\n",
    "2 . Hidden Layer --NN\n",
    "3. Output Layer --FCNN\n",
    "\n",
    "<h4>"
   ]
  },
  {
   "cell_type": "markdown",
   "metadata": {},
   "source": [
    "1. Tensorflow\n",
    "2. Pytroch\n",
    "3. MaxNet\n",
    "\n",
    "1. Numpy \n",
    "2. Pandas\n",
    "3. pillow\n",
    "4. OpenCV\n",
    "5. Scikit Learn\n",
    "\n",
    "i. Plotly\n",
    "ii. matplotlib\n",
    "iii. Seaborn\n",
    "iv. D3.js\n",
    "\n",
    "vi . NLTK"
   ]
  },
  {
   "cell_type": "markdown",
   "metadata": {},
   "source": [
    "<h4>Importing Library<h4>\n",
    "\n",
    "```python\n",
    "\n",
    "for i in range(10):\n",
    "    print(i)\n",
    "print(\"This is For Loop\")\n",
    "```"
   ]
  },
  {
   "cell_type": "code",
   "execution_count": 1,
   "metadata": {},
   "outputs": [],
   "source": [
    "# import tensorflow.compat.v1 as tf \n",
    "import tensorflow as tf \n",
    "# This section for algebric analysis\n",
    "import numpy as np\n",
    "# This section for visualization \n",
    "import matplotlib.pyplot as plt\n",
    "\n",
    "import warnings\n",
    "warnings.filterwarnings('ignore')\n",
    "%matplotlib inline"
   ]
  },
  {
   "cell_type": "markdown",
   "metadata": {},
   "source": [
    "#### help(warning.filterwarnings)"
   ]
  },
  {
   "cell_type": "markdown",
   "metadata": {},
   "source": [
    "#### value =dict({\"product_pricel\" : 10,\n",
    "####           \"product_price2\" :100})"
   ]
  },
  {
   "cell_type": "markdown",
   "metadata": {},
   "source": [
    "Say for example\n",
    "```(1000, 10)\n",
    "value = dict({\"product_price1\" : 10,\n",
    "\"product_price2\" : 100})\n",
    "```"
   ]
  },
  {
   "cell_type": "markdown",
   "metadata": {},
   "source": [
    "1. Random : import random as rnd\n",
    "2. Numpy: import numpy.random as npr\n",
    "3. Tensorflow: import tensorflow.random"
   ]
  },
  {
   "cell_type": "markdown",
   "metadata": {},
   "source": [
    "# help(warnings.filterwarnings)"
   ]
  },
  {
   "cell_type": "code",
   "execution_count": 2,
   "metadata": {},
   "outputs": [],
   "source": [
    "class NeuralNetowrk:\n",
    "    def __init_(self, layers):\n",
    "        self.layers = layers\n",
    "        self.L = len(layers)\n",
    "\n",
    "        self.number_feature = layers[0]\n",
    "        self.number_class = layers[-1]\n",
    "\n",
    "        self.w = {}\n",
    "        self.b = {}\n",
    "\n",
    "        self.dw = {}\n",
    "        self.db = {}\n",
    "\n",
    "        self.setup()\n",
    "    def setup(self):\n",
    "        for i in range(i, self.L):\n",
    "            self.W[i] = tf.variable(tf.random.normal(shape = (self.layers[i], self.layers[i-1])))\n",
    "            self.b[i] = tf.Variable(tf.random.normal(shape = (self.layers[i], 1))) \n",
    "\n"
   ]
  },
  {
   "cell_type": "markdown",
   "metadata": {},
   "source": [
    "Way of create dtype\n",
    "\n",
    "1. dtype =\"float32\"\n",
    "2. dtype=np.float32\n",
    "3. dtype=tf.float32\n",
    "4. dtype=torch.float32\n",
    "\n"
   ]
  },
  {
   "cell_type": "code",
   "execution_count": 3,
   "metadata": {},
   "outputs": [],
   "source": [
    "# Forward Propagation \n",
    "\n",
    "class NeuralNetowrk(NeuralNetowrk):\n",
    "    def forwardPass(self, A):\n",
    "        A = tf.convert_to_tensor(A, dtype= float)\n",
    "        for i in range(1, self.L):\n",
    "            Z = tf.matmul(A, tf.transpose(self.W[i])) + tf.transpose(self.b[i])\n",
    "            if i!= self.L-1:\n",
    "                A = tf.nn.relu(Z)\n",
    "            else:\n",
    "                A = Z\n",
    "        return A"
   ]
  },
  {
   "cell_type": "markdown",
   "metadata": {},
   "source": [
    "#### Say for example of (A, Y) and (Y, A)\n",
    "```\n",
    "def summ(a, b):\n",
    "    summa = a-b\n",
    "    return summa\n",
    "summ(4, 5)\n",
    "```"
   ]
  },
  {
   "cell_type": "code",
   "execution_count": 4,
   "metadata": {},
   "outputs": [],
   "source": [
    "# We will use this section for computing loss function and Upgrading the previous parameters\n",
    "class NeuralNetowrk(NeuralNetowrk):\n",
    "    def compute_loss(self, A, Y):\n",
    "        return tf.reduce_mean(tf.nn.softmax_cross_entropy_with_logits(Y, A))\n",
    "        \n",
    "    \n",
    "    def upgrade_parameters(self, lr):\n",
    "        for j in range(1, self.L):\n",
    "            self.W[j].assing_sub(lr*self.dw[j])\n",
    "            self.b[j].assing_sub(lr*self.db[j])"
   ]
  },
  {
   "cell_type": "code",
   "execution_count": null,
   "metadata": {},
   "outputs": [],
   "source": [
    "# 0 index ---> cats\n",
    "# 1 index ----> dogs\n",
    "np.argmax([0.12, 0.09])"
   ]
  },
  {
   "cell_type": "code",
   "execution_count": 5,
   "metadata": {},
   "outputs": [
    {
     "name": "stdout",
     "output_type": "stream",
     "text": [
      "1\n",
      "0\n"
     ]
    }
   ],
   "source": [
    "\n",
    "v1=np.argmax([0.2, 0.9, 0.5])\n",
    "v2=np.argmax([0.12, 0.09])\n",
    "print(v1)\n",
    "print(v2)"
   ]
  },
  {
   "cell_type": "code",
   "execution_count": 6,
   "metadata": {},
   "outputs": [],
   "source": [
    "class NeuralNetowrk(NeuralNetowrk):\n",
    "    def predict(self, x):\n",
    "        A = self.forwardPass(x)\n",
    "        return tf.argmax(tf.nn.softmax(A), axis = 1)\n",
    "\n",
    "    def info(self):\n",
    "        num_params = 0\n",
    "        for i in range(1, self.L):\n",
    "            num_params += self.W[i].shape[0] * self.W[i].shape[1]\n",
    "            num_params += self .b[i].shape[0]\n",
    "\n",
    "        print(\"Number of Feature: {}\".format(self.number_feature))\n",
    "        print(\"Total Number of class is: {}\".format(self.number_class))\n",
    "\n",
    "        print(\"Hidden Layer information is: \")\n",
    "        for j in range (1, self.L -1):\n",
    "            print(\"Layer: {}, Units {}\". format(num_params))\n",
    "\n",
    "        print(\"Total Number of parameters : {}\".format(num_params))\n",
    "\n"
   ]
  },
  {
   "cell_type": "code",
   "execution_count": null,
   "metadata": {},
   "outputs": [],
   "source": [
    "# history = model.fit()"
   ]
  },
  {
   "cell_type": "code",
   "execution_count": 7,
   "metadata": {},
   "outputs": [],
   "source": [
    "class NeuralNetowrk(NeuralNetowrk):\n",
    "    def training_on_batch(self, x, y, lr):\n",
    "        x = tf.convert_to_tensor(x, dtype=tf.float32)\n",
    "        y = tf.convert_to_tensor(y, dtype=tf.float32)\n",
    "        \n",
    "        with tf.GradientTape(persistent=True) as tape:\n",
    "            A = self.forwardPass(x)\n",
    "            loss = self.compute_loss(A, y)\n",
    "\n",
    "        for key in self.W.keys():\n",
    "            self.dw[key] = tape.gradient(loss, self.W[key])\n",
    "            self.db[key] = tape.gradient(loss, self.b[key])\n",
    "        \n",
    "        del tape\n",
    "\n",
    "        self.upgrade_parameters(lr)\n",
    "        return loss.numpy()\n",
    "        "
   ]
  },
  {
   "cell_type": "code",
   "execution_count": 8,
   "metadata": {},
   "outputs": [],
   "source": [
    "# Training start\n",
    "class NeuralNetowrk(NeuralNetowrk):\n",
    "    def train(self, x_train, y_train, x_test, y_test, epochs, step_per_epochs, batch_size, lr):\n",
    "        history = {\"val_loss\": [],\n",
    "                    'train_loss':[],\n",
    "                    'val_acc':[]}    \n",
    "        for e in range(0, epochs):\n",
    "            training_loss_epochs = 0.0\n",
    "            print(\"Epochs {}\".format(e), end = \" | \")\n",
    "            for i in range(step_per_epochs):\n",
    "                x_batch = x_train[i*batch_size : (i+1)*batch_size]\n",
    "                y_batch = y_train[i*batch_size : (i+1)*batch_size]\n",
    "                batch_loss = self.training_on_batch(x_batch, lr)\n",
    "                epoch_loss_train += batch_loss\n",
    "\n",
    "                if i %int(step_per_epochs/10) == 0:\n",
    "                    print(end =\" . \")\n",
    "\n",
    "            history['train_loss'].append(epoch_loss_train/step_per_epochs)\n",
    "            valA = self.forwardPass(x_test)\n",
    "            history['val_loss'].append(self.compute_loss(y_test, valA).numpy())\n",
    "\n",
    "            valuPr = self.predict(x_test)\n",
    "            history['val_acc'].append(np.mean(np.argmax(y_test, axis=1) == valuPr.numpy()))\n",
    "            print(\"Value Accuracy: \", history['val_acc'][-1])\n",
    "        # here, we will get  training information\n",
    "        return history"
   ]
  },
  {
   "cell_type": "markdown",
   "metadata": {},
   "source": [
    "#### 12//5 if use double slash then you will get integer number  \n",
    "```\n",
    "a = np.array([1, 2 , 3])\n",
    "b = np.array([1, 4, 3])\n",
    "a == b\n",
    "```\n"
   ]
  },
  {
   "cell_type": "code",
   "execution_count": null,
   "metadata": {},
   "outputs": [],
   "source": [
    "# x_train, x_test, y_train, y_test = train_test_split(X, y, test_size = 0.2, random_state= 42)"
   ]
  },
  {
   "cell_type": "markdown",
   "metadata": {},
   "source": [
    "```\n",
    "# for example\n",
    "for i, j in enumerate(range(5, 11)):\n",
    "    print(i, j)\n",
    "\n",
    "```"
   ]
  },
  {
   "cell_type": "code",
   "execution_count": 9,
   "metadata": {},
   "outputs": [],
   "source": [
    "def loadDatasets():\n",
    "    (x_train, y_train), (x_test, y_test) =tf.keras.datasets.mnist.load_data()\n",
    "    x_train = np.reshape(x_train, (x_train.shape[0], 784))/255.0\n",
    "    y_train=tf.keras.utils.to_categorical(y_train)\n",
    "    x_test= np.reshape(x_test, (x_test.shape[0], 784))/255.0\n",
    "    y_test= tf.keras.utils.to_categorical(y_test)\n",
    "    print(\"X Train Datasets Shape: {}\".format(x_train.shape))\n",
    "    print(\"Y test Data {}\".format(y_test))\n",
    "    print(\"Len of Y test Datasets: {}\".format(len(y_test[0])))\n",
    "    print(\"Unique value is : {}\".format(np.unique(y_test[0])))\n",
    "\n",
    "    return (x_train, y_train), (x_test, y_test)\n",
    "\n",
    "def plot_random_sample(x, y, p = None):\n",
    "    indicies = np.random.choice(range(0, x.shape[0]), 10)\n",
    "    y = np.argmax(y, axis = 1)\n",
    "    if p is None:\n",
    "        p = y\n",
    "\n",
    "    plt.figure(figsize=(10, 4))\n",
    "    for i, index in enumerate(indicies):\n",
    "        plt.subplot(2, 5, i+1)\n",
    "        plt.imshow(x[index].reshape((28, 28)), cmap = 'binary')\n",
    "        plt.xticks([])\n",
    "        plt.yticks([])\n",
    "        plt.gray()\n",
    "\n",
    "        if y[index] == p[index]:\n",
    "            col = 'g'\n",
    "        else:\n",
    "            col = 'r'\n",
    "        plt.xlabel(str(p[index]), color = col)\n",
    "    return plt\n",
    "    "
   ]
  },
  {
   "cell_type": "code",
   "execution_count": 10,
   "metadata": {},
   "outputs": [
    {
     "name": "stdout",
     "output_type": "stream",
     "text": [
      "X Train Datasets Shape: (60000, 784)\n",
      "Y test Data [[0. 0. 0. ... 1. 0. 0.]\n",
      " [0. 0. 1. ... 0. 0. 0.]\n",
      " [0. 1. 0. ... 0. 0. 0.]\n",
      " ...\n",
      " [0. 0. 0. ... 0. 0. 0.]\n",
      " [0. 0. 0. ... 0. 0. 0.]\n",
      " [0. 0. 0. ... 0. 0. 0.]]\n",
      "Len of Y test Datasets: 10\n",
      "Unique value is : [0. 1.]\n"
     ]
    }
   ],
   "source": [
    "(x_train, y_train), (x_test, y_test) = loadDatasets()"
   ]
  },
  {
   "cell_type": "code",
   "execution_count": 11,
   "metadata": {},
   "outputs": [
    {
     "data": {
      "image/png": "[encoded data removed]",
      "text/plain": [
       "<Figure size 1000x400 with 10 Axes>"
      ]
     },
     "metadata": {},
     "output_type": "display_data"
    }
   ],
   "source": [
    "plot_random_sample(x_train, y_train).show()"
   ]
  }
 ],
 "metadata": {
  "kernelspec": {
   "display_name": "Python 3.9.13 ('Neur_Net')",
   "language": "python",
   "name": "python3"
  },
  "language_info": {
   "codemirror_mode": {
    "name": "ipython",
    "version": 3
   },
   "file_extension": ".py",
   "mimetype": "text/x-python",
   "name": "python",
   "nbconvert_exporter": "python",
   "pygments_lexer": "ipython3",
   "version": "3.9.13"
  },
  "orig_nbformat": 4,
  "vscode": {
   "interpreter": {
    "hash": "301392c3b0eb06d6d45f21b27cd40d46634b624fb7988a05fbd688d0cc6eb63e"
   }
  }
 },
 "nbformat": 4,
 "nbformat_minor": 2
}
